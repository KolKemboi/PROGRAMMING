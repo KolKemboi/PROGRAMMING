{
 "cells": [
  {
   "cell_type": "code",
   "execution_count": 24,
   "id": "61dfc667-af91-4e0c-8d25-fa9675cedf17",
   "metadata": {},
   "outputs": [
    {
     "name": "stdout",
     "output_type": "stream",
     "text": [
      "Hello World\n"
     ]
    }
   ],
   "source": [
    "print(\"Hello World\")"
   ]
  },
  {
   "cell_type": "code",
   "execution_count": 25,
   "id": "be331513-cc58-445f-bc81-3d1d9964afc7",
   "metadata": {},
   "outputs": [
    {
     "name": "stdout",
     "output_type": "stream",
     "text": [
      "Hello 0\n",
      "Hello 1\n",
      "Hello 2\n",
      "Hello 3\n",
      "Hello 4\n",
      "Hello 5\n",
      "Hello 6\n",
      "Hello 7\n",
      "Hello 8\n",
      "Hello 9\n"
     ]
    }
   ],
   "source": [
    "for i in range(10):\n",
    "    print(f\"Hello {i}\")"
   ]
  },
  {
   "cell_type": "code",
   "execution_count": 26,
   "id": "acfaffba-78db-4b08-9756-b1f4c9beb3d0",
   "metadata": {},
   "outputs": [
    {
     "name": "stdout",
     "output_type": "stream",
     "text": [
      "1\n",
      "2\n",
      "3\n",
      "4\n",
      "5\n",
      "6\n",
      "7\n",
      "8\n",
      "9\n"
     ]
    }
   ],
   "source": [
    "u = 1\n",
    "while u in range(10):\n",
    "    print(f\"{u}\")\n",
    "    u += 1"
   ]
  },
  {
   "cell_type": "code",
   "execution_count": 27,
   "id": "f29b4138-5298-4e79-84c5-fe73016a4f0c",
   "metadata": {},
   "outputs": [],
   "source": [
    "import numpy as np\n",
    "import matplotlib.pyplot as plt"
   ]
  },
  {
   "cell_type": "code",
   "execution_count": 28,
   "id": "9866e0ed-f456-4c5e-a5f0-41d3c06d3350",
   "metadata": {},
   "outputs": [
    {
     "data": {
      "image/png": "[encoded data removed]",
      "text/plain": [
       "<Figure size 640x480 with 1 Axes>"
      ]
     },
     "metadata": {},
     "output_type": "display_data"
    }
   ],
   "source": [
    "plt.title(\"Some name\")\n",
    "\n",
    "plt.plot(np.arange(1, 10, 1), np.arange(1, 10, 1))\n",
    "plt.show()"
   ]
  },
  {
   "cell_type": "code",
   "execution_count": 29,
   "id": "ed8db2b6-59c8-44e4-9d4c-49b6033e02b9",
   "metadata": {},
   "outputs": [],
   "source": [
    "array_x = np.array([1, 1, 1, 1, 1, 1], dtype = float)"
   ]
  },
  {
   "cell_type": "code",
   "execution_count": 30,
   "id": "1f042969-bebc-4aee-b61c-965444ad0170",
   "metadata": {},
   "outputs": [
    {
     "data": {
      "text/plain": [
       "(6,)"
      ]
     },
     "execution_count": 30,
     "metadata": {},
     "output_type": "execute_result"
    }
   ],
   "source": [
    "array_x.shape"
   ]
  },
  {
   "cell_type": "code",
   "execution_count": 31,
   "id": "47dc7349-a9cf-4b66-b36b-786538a72aa5",
   "metadata": {},
   "outputs": [
    {
     "data": {
      "text/plain": [
       "array([[1., 1., 1.],\n",
       "       [1., 1., 1.]])"
      ]
     },
     "execution_count": 31,
     "metadata": {},
     "output_type": "execute_result"
    }
   ],
   "source": [
    "array_x.reshape(2, 3)"
   ]
  },
  {
   "cell_type": "code",
   "execution_count": 32,
   "id": "49949e62-e532-4fed-83e7-8025bc31053e",
   "metadata": {},
   "outputs": [
    {
     "data": {
      "text/plain": [
       "array([1., 1., 1., 1., 1., 1.])"
      ]
     },
     "execution_count": 32,
     "metadata": {},
     "output_type": "execute_result"
    }
   ],
   "source": [
    "array_x"
   ]
  },
  {
   "cell_type": "code",
   "execution_count": 33,
   "id": "5b524f18-0258-4a5a-ba78-26d02b772398",
   "metadata": {},
   "outputs": [
    {
     "data": {
      "text/plain": [
       "dtype('float64')"
      ]
     },
     "execution_count": 33,
     "metadata": {},
     "output_type": "execute_result"
    }
   ],
   "source": [
    "array_x.dtype"
   ]
  },
  {
   "cell_type": "code",
   "execution_count": 34,
   "id": "f61f28ba-2e64-4e95-becd-2d904d5e0412",
   "metadata": {},
   "outputs": [
    {
     "ename": "SyntaxError",
     "evalue": "invalid syntax (993014645.py, line 5)",
     "output_type": "error",
     "traceback": [
      "\u001b[1;36m  Cell \u001b[1;32mIn[34], line 5\u001b[1;36m\u001b[0m\n\u001b[1;33m    from sklearn.\u001b[0m\n\u001b[1;37m                 ^\u001b[0m\n\u001b[1;31mSyntaxError\u001b[0m\u001b[1;31m:\u001b[0m invalid syntax\n"
     ]
    }
   ],
   "source": [
    "from sklearn.preprocessing import StandardScaler\n",
    "from sklearn.utils import resample\n",
    "from sklearn.model_selection import train_test_split as TTS\n",
    "from sklearn.linear_model import LogisticRegression\n",
    "from sklearn."
   ]
  }
 ],
 "metadata": {
  "kernelspec": {
   "display_name": "Python 3 (ipykernel)",
   "language": "python",
   "name": "python3"
  },
  "language_info": {
   "codemirror_mode": {
    "name": "ipython",
    "version": 3
   },
   "file_extension": ".py",
   "mimetype": "text/x-python",
   "name": "python",
   "nbconvert_exporter": "python",
   "pygments_lexer": "ipython3",
   "version": "3.11.8"
  }
 },
 "nbformat": 4,
 "nbformat_minor": 5
}
