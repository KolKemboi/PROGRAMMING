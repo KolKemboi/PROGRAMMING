{
 "cells": [
  {
   "cell_type": "code",
   "execution_count": 1,
   "id": "46b5a727-00e6-4619-ae33-04ec8ad226ea",
   "metadata": {},
   "outputs": [],
   "source": [
    "import numpy as np\n",
    "import matplotlib.pyplot as plt"
   ]
  },
  {
   "cell_type": "code",
   "execution_count": 2,
   "id": "153a17ae-9b64-4eec-a563-5e3aaa6fad0a",
   "metadata": {},
   "outputs": [],
   "source": [
    "r = 0.05"
   ]
  },
  {
   "cell_type": "code",
   "execution_count": 3,
   "id": "3d4b8e6f-4c8c-41a0-8c18-e420eeec312c",
   "metadata": {},
   "outputs": [
    {
     "data": {
      "text/plain": [
       "1.05"
      ]
     },
     "execution_count": 3,
     "metadata": {},
     "output_type": "execute_result"
    }
   ],
   "source": [
    "1 + r"
   ]
  },
  {
   "cell_type": "code",
   "execution_count": 4,
   "id": "349bbff6-1ad9-463b-ac3b-da33a56f6b77",
   "metadata": {},
   "outputs": [
    {
     "data": {
      "text/plain": [
       "1.051161897881733"
      ]
     },
     "execution_count": 4,
     "metadata": {},
     "output_type": "execute_result"
    }
   ],
   "source": [
    "(1+ (r/12))**12"
   ]
  },
  {
   "cell_type": "code",
   "execution_count": 5,
   "id": "cf9a8d5c-ebc4-4e33-92c8-822fa3b92459",
   "metadata": {},
   "outputs": [
    {
     "data": {
      "text/plain": [
       "1.0512674964674473"
      ]
     },
     "execution_count": 5,
     "metadata": {},
     "output_type": "execute_result"
    }
   ],
   "source": [
    "(1 + (r/365))**365"
   ]
  },
  {
   "cell_type": "code",
   "execution_count": 6,
   "id": "18f4ba53-b698-45cb-b077-74b57e9792db",
   "metadata": {},
   "outputs": [
    {
     "data": {
      "text/plain": [
       "1.0512710963760241"
      ]
     },
     "execution_count": 6,
     "metadata": {},
     "output_type": "execute_result"
    }
   ],
   "source": [
    "np.exp(r)"
   ]
  },
  {
   "cell_type": "code",
   "execution_count": null,
   "id": "3805bc9c-ef32-451c-a4d5-f06f82bb87c9",
   "metadata": {},
   "outputs": [],
   "source": []
  }
 ],
 "metadata": {
  "kernelspec": {
   "display_name": "Python 3 (ipykernel)",
   "language": "python",
   "name": "python3"
  },
  "language_info": {
   "codemirror_mode": {
    "name": "ipython",
    "version": 3
   },
   "file_extension": ".py",
   "mimetype": "text/x-python",
   "name": "python",
   "nbconvert_exporter": "python",
   "pygments_lexer": "ipython3",
   "version": "3.10.0"
  }
 },
 "nbformat": 4,
 "nbformat_minor": 5
}
